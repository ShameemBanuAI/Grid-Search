{
 "cells": [
  {
   "cell_type": "code",
   "execution_count": 2,
   "id": "a75ad828",
   "metadata": {},
   "outputs": [
    {
     "name": "stdout",
     "output_type": "stream",
     "text": [
      "Requirement already satisfied: xgboost in c:\\users\\elcot\\.eclipse\\anaconda\\lib\\site-packages (2.0.0)\n",
      "Requirement already satisfied: scipy in c:\\users\\elcot\\.eclipse\\anaconda\\lib\\site-packages (from xgboost) (1.10.0)\n",
      "Requirement already satisfied: numpy in c:\\users\\elcot\\.eclipse\\anaconda\\lib\\site-packages (from xgboost) (1.23.5)\n"
     ]
    }
   ],
   "source": [
    "!pip install xgboost"
   ]
  },
  {
   "cell_type": "code",
   "execution_count": 3,
   "id": "a81e53f9",
   "metadata": {},
   "outputs": [
    {
     "name": "stdout",
     "output_type": "stream",
     "text": [
      "2.0.0\n"
     ]
    }
   ],
   "source": [
    "import xgboost as xg\n",
    "print(xg.__version__)"
   ]
  },
  {
   "cell_type": "code",
   "execution_count": 4,
   "id": "fb6ad592",
   "metadata": {},
   "outputs": [],
   "source": [
    "import pandas as pd"
   ]
  },
  {
   "cell_type": "code",
   "execution_count": 5,
   "id": "e5a3badf",
   "metadata": {},
   "outputs": [],
   "source": [
    "dataset=pd.read_csv(\"insurance_pre.csv\")"
   ]
  },
  {
   "cell_type": "code",
   "execution_count": 6,
   "id": "4fb0621c",
   "metadata": {},
   "outputs": [],
   "source": [
    "dataset=pd.get_dummies(dataset,drop_first=True)"
   ]
  },
  {
   "cell_type": "code",
   "execution_count": 7,
   "id": "a997f4dd",
   "metadata": {},
   "outputs": [
    {
     "data": {
      "text/plain": [
       "Index(['age', 'bmi', 'children', 'charges', 'sex_male', 'smoker_yes'], dtype='object')"
      ]
     },
     "execution_count": 7,
     "metadata": {},
     "output_type": "execute_result"
    }
   ],
   "source": [
    "dataset.columns"
   ]
  },
  {
   "cell_type": "code",
   "execution_count": 9,
   "id": "b915cfe7",
   "metadata": {},
   "outputs": [],
   "source": [
    "indep=dataset.iloc[:, [0, 1, 2, 4, 5]]"
   ]
  },
  {
   "cell_type": "code",
   "execution_count": 10,
   "id": "6a786089",
   "metadata": {},
   "outputs": [],
   "source": [
    "dep=dataset.iloc[:, [3]]"
   ]
  },
  {
   "cell_type": "code",
   "execution_count": 25,
   "id": "06f48583",
   "metadata": {},
   "outputs": [
    {
     "ename": "SyntaxError",
     "evalue": "positional argument follows keyword argument (1681073280.py, line 6)",
     "output_type": "error",
     "traceback": [
      "\u001b[1;36m  Cell \u001b[1;32mIn[25], line 6\u001b[1;36m\u001b[0m\n\u001b[1;33m    grid=GridSearchCV(estimator=xgb, paramgrid, refit=True, verbose=3, n_jobs=-1)\u001b[0m\n\u001b[1;37m                                                                                ^\u001b[0m\n\u001b[1;31mSyntaxError\u001b[0m\u001b[1;31m:\u001b[0m positional argument follows keyword argument\n"
     ]
    }
   ],
   "source": [
    "from sklearn.model_selection import GridSearchCV\n",
    "from xgboost import XGBRegressor\n",
    "xgb = XGBRegressor()\n",
    "paramgrid = {'max_depth': [5,10],\n",
    "             'n_estimators': [25,100,50]}\n",
    "grid=GridSearchCV(estimator=xgb, paramgrid, refit=True, verbose=3, n_jobs=-1)\n",
    "grid.fit(indep,dep)\n",
    "\n"
   ]
  },
  {
   "cell_type": "code",
   "execution_count": 22,
   "id": "8a168cc5",
   "metadata": {},
   "outputs": [],
   "source": [
    "bestParams=grid.best_params_\n",
    "rscore=grid.best_score_"
   ]
  },
  {
   "cell_type": "code",
   "execution_count": 23,
   "id": "d45acc07",
   "metadata": {},
   "outputs": [
    {
     "name": "stdout",
     "output_type": "stream",
     "text": [
      " The best parameter {'max_depth': 5, 'n_estimators': 25} \n",
      "The R2Score 0.8445599410811324 \n"
     ]
    }
   ],
   "source": [
    "print(\" The best parameter {} \".format(bestParams))\n",
    "print(\"The R2Score {} \".format(rscore))"
   ]
  },
  {
   "cell_type": "code",
   "execution_count": 24,
   "id": "93612f38",
   "metadata": {},
   "outputs": [
    {
     "data": {
      "text/html": [
       "<div>\n",
       "<style scoped>\n",
       "    .dataframe tbody tr th:only-of-type {\n",
       "        vertical-align: middle;\n",
       "    }\n",
       "\n",
       "    .dataframe tbody tr th {\n",
       "        vertical-align: top;\n",
       "    }\n",
       "\n",
       "    .dataframe thead th {\n",
       "        text-align: right;\n",
       "    }\n",
       "</style>\n",
       "<table border=\"1\" class=\"dataframe\">\n",
       "  <thead>\n",
       "    <tr style=\"text-align: right;\">\n",
       "      <th></th>\n",
       "      <th>mean_fit_time</th>\n",
       "      <th>std_fit_time</th>\n",
       "      <th>mean_score_time</th>\n",
       "      <th>std_score_time</th>\n",
       "      <th>param_max_depth</th>\n",
       "      <th>param_n_estimators</th>\n",
       "      <th>params</th>\n",
       "      <th>split0_test_score</th>\n",
       "      <th>split1_test_score</th>\n",
       "      <th>split2_test_score</th>\n",
       "      <th>split3_test_score</th>\n",
       "      <th>split4_test_score</th>\n",
       "      <th>mean_test_score</th>\n",
       "      <th>std_test_score</th>\n",
       "      <th>rank_test_score</th>\n",
       "    </tr>\n",
       "  </thead>\n",
       "  <tbody>\n",
       "    <tr>\n",
       "      <th>0</th>\n",
       "      <td>0.043754</td>\n",
       "      <td>0.006250</td>\n",
       "      <td>0.003125</td>\n",
       "      <td>0.006250</td>\n",
       "      <td>5</td>\n",
       "      <td>25</td>\n",
       "      <td>{'max_depth': 5, 'n_estimators': 25}</td>\n",
       "      <td>0.859754</td>\n",
       "      <td>0.794647</td>\n",
       "      <td>0.876914</td>\n",
       "      <td>0.839016</td>\n",
       "      <td>0.852469</td>\n",
       "      <td>0.844560</td>\n",
       "      <td>0.027793</td>\n",
       "      <td>1</td>\n",
       "    </tr>\n",
       "    <tr>\n",
       "      <th>1</th>\n",
       "      <td>0.118757</td>\n",
       "      <td>0.007654</td>\n",
       "      <td>0.006251</td>\n",
       "      <td>0.007656</td>\n",
       "      <td>5</td>\n",
       "      <td>100</td>\n",
       "      <td>{'max_depth': 5, 'n_estimators': 100}</td>\n",
       "      <td>0.829711</td>\n",
       "      <td>0.752967</td>\n",
       "      <td>0.835589</td>\n",
       "      <td>0.813381</td>\n",
       "      <td>0.820628</td>\n",
       "      <td>0.810455</td>\n",
       "      <td>0.029730</td>\n",
       "      <td>3</td>\n",
       "    </tr>\n",
       "    <tr>\n",
       "      <th>2</th>\n",
       "      <td>0.065628</td>\n",
       "      <td>0.006250</td>\n",
       "      <td>0.015628</td>\n",
       "      <td>0.000002</td>\n",
       "      <td>5</td>\n",
       "      <td>50</td>\n",
       "      <td>{'max_depth': 5, 'n_estimators': 50}</td>\n",
       "      <td>0.848632</td>\n",
       "      <td>0.776735</td>\n",
       "      <td>0.859928</td>\n",
       "      <td>0.830825</td>\n",
       "      <td>0.837396</td>\n",
       "      <td>0.830703</td>\n",
       "      <td>0.028750</td>\n",
       "      <td>2</td>\n",
       "    </tr>\n",
       "    <tr>\n",
       "      <th>3</th>\n",
       "      <td>0.146885</td>\n",
       "      <td>0.012499</td>\n",
       "      <td>0.009375</td>\n",
       "      <td>0.007655</td>\n",
       "      <td>10</td>\n",
       "      <td>25</td>\n",
       "      <td>{'max_depth': 10, 'n_estimators': 25}</td>\n",
       "      <td>0.805642</td>\n",
       "      <td>0.755886</td>\n",
       "      <td>0.829124</td>\n",
       "      <td>0.807299</td>\n",
       "      <td>0.823598</td>\n",
       "      <td>0.804310</td>\n",
       "      <td>0.025859</td>\n",
       "      <td>4</td>\n",
       "    </tr>\n",
       "    <tr>\n",
       "      <th>4</th>\n",
       "      <td>0.453156</td>\n",
       "      <td>0.022099</td>\n",
       "      <td>0.012502</td>\n",
       "      <td>0.006251</td>\n",
       "      <td>10</td>\n",
       "      <td>100</td>\n",
       "      <td>{'max_depth': 10, 'n_estimators': 100}</td>\n",
       "      <td>0.798729</td>\n",
       "      <td>0.743931</td>\n",
       "      <td>0.822636</td>\n",
       "      <td>0.804317</td>\n",
       "      <td>0.819469</td>\n",
       "      <td>0.797816</td>\n",
       "      <td>0.028396</td>\n",
       "      <td>6</td>\n",
       "    </tr>\n",
       "    <tr>\n",
       "      <th>5</th>\n",
       "      <td>0.319914</td>\n",
       "      <td>0.033795</td>\n",
       "      <td>0.012017</td>\n",
       "      <td>0.006056</td>\n",
       "      <td>10</td>\n",
       "      <td>50</td>\n",
       "      <td>{'max_depth': 10, 'n_estimators': 50}</td>\n",
       "      <td>0.799887</td>\n",
       "      <td>0.746973</td>\n",
       "      <td>0.824967</td>\n",
       "      <td>0.805974</td>\n",
       "      <td>0.820076</td>\n",
       "      <td>0.799575</td>\n",
       "      <td>0.027832</td>\n",
       "      <td>5</td>\n",
       "    </tr>\n",
       "  </tbody>\n",
       "</table>\n",
       "</div>"
      ],
      "text/plain": [
       "   mean_fit_time  std_fit_time  mean_score_time  std_score_time  \\\n",
       "0       0.043754      0.006250         0.003125        0.006250   \n",
       "1       0.118757      0.007654         0.006251        0.007656   \n",
       "2       0.065628      0.006250         0.015628        0.000002   \n",
       "3       0.146885      0.012499         0.009375        0.007655   \n",
       "4       0.453156      0.022099         0.012502        0.006251   \n",
       "5       0.319914      0.033795         0.012017        0.006056   \n",
       "\n",
       "  param_max_depth param_n_estimators                                  params  \\\n",
       "0               5                 25    {'max_depth': 5, 'n_estimators': 25}   \n",
       "1               5                100   {'max_depth': 5, 'n_estimators': 100}   \n",
       "2               5                 50    {'max_depth': 5, 'n_estimators': 50}   \n",
       "3              10                 25   {'max_depth': 10, 'n_estimators': 25}   \n",
       "4              10                100  {'max_depth': 10, 'n_estimators': 100}   \n",
       "5              10                 50   {'max_depth': 10, 'n_estimators': 50}   \n",
       "\n",
       "   split0_test_score  split1_test_score  split2_test_score  split3_test_score  \\\n",
       "0           0.859754           0.794647           0.876914           0.839016   \n",
       "1           0.829711           0.752967           0.835589           0.813381   \n",
       "2           0.848632           0.776735           0.859928           0.830825   \n",
       "3           0.805642           0.755886           0.829124           0.807299   \n",
       "4           0.798729           0.743931           0.822636           0.804317   \n",
       "5           0.799887           0.746973           0.824967           0.805974   \n",
       "\n",
       "   split4_test_score  mean_test_score  std_test_score  rank_test_score  \n",
       "0           0.852469         0.844560        0.027793                1  \n",
       "1           0.820628         0.810455        0.029730                3  \n",
       "2           0.837396         0.830703        0.028750                2  \n",
       "3           0.823598         0.804310        0.025859                4  \n",
       "4           0.819469         0.797816        0.028396                6  \n",
       "5           0.820076         0.799575        0.027832                5  "
      ]
     },
     "execution_count": 24,
     "metadata": {},
     "output_type": "execute_result"
    }
   ],
   "source": [
    "re=grid.cv_results_\n",
    "table=pd.DataFrame.from_dict(re)\n",
    "table"
   ]
  },
  {
   "cell_type": "code",
   "execution_count": null,
   "id": "dfa8ca6c",
   "metadata": {},
   "outputs": [],
   "source": []
  }
 ],
 "metadata": {
  "kernelspec": {
   "display_name": "Python 3 (ipykernel)",
   "language": "python",
   "name": "python3"
  },
  "language_info": {
   "codemirror_mode": {
    "name": "ipython",
    "version": 3
   },
   "file_extension": ".py",
   "mimetype": "text/x-python",
   "name": "python",
   "nbconvert_exporter": "python",
   "pygments_lexer": "ipython3",
   "version": "3.10.9"
  }
 },
 "nbformat": 4,
 "nbformat_minor": 5
}
