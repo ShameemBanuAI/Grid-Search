{
 "cells": [
  {
   "cell_type": "code",
   "execution_count": 1,
   "id": "28d721f7",
   "metadata": {},
   "outputs": [],
   "source": [
    "import pandas as pd"
   ]
  },
  {
   "cell_type": "code",
   "execution_count": 2,
   "id": "59769517",
   "metadata": {},
   "outputs": [],
   "source": [
    "dataset=pd.read_csv(\"insurance_pre.csv\")"
   ]
  },
  {
   "cell_type": "code",
   "execution_count": 3,
   "id": "bf212485",
   "metadata": {},
   "outputs": [],
   "source": [
    "dataset=pd.get_dummies(dataset,drop_first=True)"
   ]
  },
  {
   "cell_type": "code",
   "execution_count": 4,
   "id": "a7760764",
   "metadata": {},
   "outputs": [
    {
     "data": {
      "text/plain": [
       "Index(['age', 'bmi', 'children', 'charges', 'sex_male', 'smoker_yes'], dtype='object')"
      ]
     },
     "execution_count": 4,
     "metadata": {},
     "output_type": "execute_result"
    }
   ],
   "source": [
    "dataset.columns"
   ]
  },
  {
   "cell_type": "code",
   "execution_count": 5,
   "id": "2ac08df3",
   "metadata": {},
   "outputs": [],
   "source": [
    "indep=dataset[['age', 'bmi', 'children','sex_male', 'smoker_yes']]"
   ]
  },
  {
   "cell_type": "code",
   "execution_count": 6,
   "id": "f3f83328",
   "metadata": {},
   "outputs": [],
   "source": [
    "dep=dataset[['charges']]"
   ]
  },
  {
   "cell_type": "code",
   "execution_count": null,
   "id": "ce60d3ca",
   "metadata": {},
   "outputs": [],
   "source": []
  },
  {
   "cell_type": "code",
   "execution_count": null,
   "id": "4cf9378f",
   "metadata": {},
   "outputs": [
    {
     "name": "stdout",
     "output_type": "stream",
     "text": [
      "Fitting 5 folds for each of 40 candidates, totalling 200 fits\n"
     ]
    }
   ],
   "source": [
    "from sklearn.model_selection import GridSearchCV\n",
    "from sklearn.svm import SVR\n",
    "\n",
    "param_grid={'kernel':['rbf','poly','sigmoid','linear'],'C':[10,100,1000,2000,3000],\n",
    "            'gamma':['auto','scale']}\n",
    "\n",
    "grid=GridSearchCV(SVR(), param_grid, refit=True, verbose=3, n_jobs=-1)\n",
    "grid.fit(indep,dep)"
   ]
  },
  {
   "cell_type": "code",
   "execution_count": null,
   "id": "08995db5",
   "metadata": {},
   "outputs": [],
   "source": [
    "re=grid.cv_results_\n",
    "bestParam=grid.best_params_\n",
    "print(\"The hyper-tuning parameter {}\".format(bestParam))"
   ]
  },
  {
   "cell_type": "code",
   "execution_count": null,
   "id": "4eb2e782",
   "metadata": {},
   "outputs": [],
   "source": []
  },
  {
   "cell_type": "code",
   "execution_count": null,
   "id": "7ca48161",
   "metadata": {},
   "outputs": [],
   "source": [
    "table=pd.DataFrame.from_dict(re)\n",
    "table"
   ]
  },
  {
   "cell_type": "code",
   "execution_count": null,
   "id": "30ae17f8",
   "metadata": {},
   "outputs": [],
   "source": [
    "age=int(input(\"Age\"))\n",
    "bmi=int(input(\"Bmi\"))\n",
    "children=int(input(\"Children\"))\n",
    "male=int(input(\"Sex_Male 0 or 1\"))\n",
    "smoker=int(input(\"Smoker_Yes 0 or 1\"))"
   ]
  },
  {
   "cell_type": "code",
   "execution_count": null,
   "id": "b7ac6543",
   "metadata": {},
   "outputs": [],
   "source": [
    "futurePred=grid.predict([[age,bmi,children,male,smoker]])\n",
    "print(\"Future Predictions : {}\".format(futurePred))"
   ]
  }
 ],
 "metadata": {
  "kernelspec": {
   "display_name": "Python 3 (ipykernel)",
   "language": "python",
   "name": "python3"
  },
  "language_info": {
   "codemirror_mode": {
    "name": "ipython",
    "version": 3
   },
   "file_extension": ".py",
   "mimetype": "text/x-python",
   "name": "python",
   "nbconvert_exporter": "python",
   "pygments_lexer": "ipython3",
   "version": "3.10.9"
  }
 },
 "nbformat": 4,
 "nbformat_minor": 5
}
